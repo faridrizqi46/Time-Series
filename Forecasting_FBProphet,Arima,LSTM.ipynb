{
  "nbformat": 4,
  "nbformat_minor": 0,
  "metadata": {
    "colab": {
      "name": "Forecasting FBProphet,Arima,LSTM.ipynb",
      "provenance": [],
      "collapsed_sections": [
        "rb6agWWfAZ_r",
        "bjiXOhD3AdQn",
        "lT4wiO3_HVjW"
      ],
      "toc_visible": true,
      "authorship_tag": "ABX9TyOytspivT1zdt91OW995kFo",
      "include_colab_link": true
    },
    "kernelspec": {
      "name": "python3",
      "display_name": "Python 3"
    }
  },
  "cells": [
    {
      "cell_type": "markdown",
      "metadata": {
        "id": "view-in-github",
        "colab_type": "text"
      },
      "source": [
        "<a href=\"https://colab.research.google.com/github/faridrizqi46/Time-Series/blob/main/Forecasting_FBProphet%2CArima%2CLSTM.ipynb\" target=\"_parent\"><img src=\"https://colab.research.google.com/assets/colab-badge.svg\" alt=\"Open In Colab\"/></a>"
      ]
    },
    {
      "cell_type": "code",
      "metadata": {
        "id": "B-zjfCRw1jNG"
      },
      "source": [
        "import json\n",
        "import numpy as np\n",
        "import pandas as pd\n",
        "import requests\n",
        "import datetime"
      ],
      "execution_count": null,
      "outputs": []
    },
    {
      "cell_type": "code",
      "metadata": {
        "id": "Q9dAoDwSIdZs"
      },
      "source": [
        "pd.options.display.float_format = '{: .2f}'.format"
      ],
      "execution_count": null,
      "outputs": []
    },
    {
      "cell_type": "code",
      "metadata": {
        "id": "tXEl_SC51p0K"
      },
      "source": [
        "def get_json(api_url):\n",
        "\tresponse = requests.get(api_url)\n",
        "\tif response.status_code == 200:\n",
        "\t\treturn json.loads(response.content.decode('utf-8'))\n",
        "\telse:\n",
        "\t\treturn None"
      ],
      "execution_count": null,
      "outputs": []
    },
    {
      "cell_type": "code",
      "metadata": {
        "id": "3Qsl1n0XNkHC"
      },
      "source": [
        "covid_url = 'https://covid19-api.org/api/timeline'\n",
        "'https://covidtracking.com/api/states/daily'"
      ],
      "execution_count": null,
      "outputs": []
    },
    {
      "cell_type": "code",
      "metadata": {
        "colab": {
          "base_uri": "https://localhost:8080/"
        },
        "id": "6Te3tnfF2pQX",
        "outputId": "28b3afb1-1d88-47ac-f42c-7be71c846d45"
      },
      "source": [
        "#covid_url = 'https://covid19-api.org/api/timeline/ID'\n",
        "#df = pd.json_normalize(get_json(covid_url))\n",
        "df = pd.read_json('/content/Indonesia.JSON')\n",
        "\n",
        "print(df.head())"
      ],
      "execution_count": null,
      "outputs": [
        {
          "output_type": "stream",
          "text": [
            "     Country CountryCode Province  ... Cases     Status                      Date\n",
            "0  Indonesia          ID           ...     0  confirmed 2020-03-01 00:00:00+00:00\n",
            "1  Indonesia          ID           ...     2  confirmed 2020-03-02 00:00:00+00:00\n",
            "2  Indonesia          ID           ...     2  confirmed 2020-03-03 00:00:00+00:00\n",
            "3  Indonesia          ID           ...     2  confirmed 2020-03-04 00:00:00+00:00\n",
            "4  Indonesia          ID           ...     2  confirmed 2020-03-05 00:00:00+00:00\n",
            "\n",
            "[5 rows x 10 columns]\n"
          ],
          "name": "stdout"
        }
      ]
    },
    {
      "cell_type": "code",
      "metadata": {
        "colab": {
          "base_uri": "https://localhost:8080/"
        },
        "id": "LHY9V1IS2vrP",
        "outputId": "902e7155-5310-4c1f-dc95-d9ad113f7815"
      },
      "source": [
        "df.info()"
      ],
      "execution_count": null,
      "outputs": [
        {
          "output_type": "stream",
          "text": [
            "<class 'pandas.core.frame.DataFrame'>\n",
            "RangeIndex: 276 entries, 0 to 275\n",
            "Data columns (total 10 columns):\n",
            " #   Column       Non-Null Count  Dtype              \n",
            "---  ------       --------------  -----              \n",
            " 0   Country      276 non-null    object             \n",
            " 1   CountryCode  276 non-null    object             \n",
            " 2   Province     276 non-null    object             \n",
            " 3   City         276 non-null    object             \n",
            " 4   CityCode     276 non-null    object             \n",
            " 5   Lat          276 non-null    float64            \n",
            " 6   Lon          276 non-null    float64            \n",
            " 7   Cases        276 non-null    int64              \n",
            " 8   Status       276 non-null    object             \n",
            " 9   Date         276 non-null    datetime64[ns, UTC]\n",
            "dtypes: datetime64[ns, UTC](1), float64(2), int64(1), object(6)\n",
            "memory usage: 21.7+ KB\n"
          ],
          "name": "stdout"
        }
      ]
    },
    {
      "cell_type": "code",
      "metadata": {
        "id": "ovCV-1Bo3ifN"
      },
      "source": [
        "df['Date'] = pd.to_datetime(df['Date']).dt.date"
      ],
      "execution_count": null,
      "outputs": []
    },
    {
      "cell_type": "code",
      "metadata": {
        "colab": {
          "base_uri": "https://localhost:8080/",
          "height": 194
        },
        "id": "JfYGetO_32mC",
        "outputId": "fcc342f9-5ef0-4362-c021-858b86ae6621"
      },
      "source": [
        "df.head()"
      ],
      "execution_count": null,
      "outputs": [
        {
          "output_type": "execute_result",
          "data": {
            "text/html": [
              "<div>\n",
              "<style scoped>\n",
              "    .dataframe tbody tr th:only-of-type {\n",
              "        vertical-align: middle;\n",
              "    }\n",
              "\n",
              "    .dataframe tbody tr th {\n",
              "        vertical-align: top;\n",
              "    }\n",
              "\n",
              "    .dataframe thead th {\n",
              "        text-align: right;\n",
              "    }\n",
              "</style>\n",
              "<table border=\"1\" class=\"dataframe\">\n",
              "  <thead>\n",
              "    <tr style=\"text-align: right;\">\n",
              "      <th></th>\n",
              "      <th>Country</th>\n",
              "      <th>CountryCode</th>\n",
              "      <th>Province</th>\n",
              "      <th>City</th>\n",
              "      <th>CityCode</th>\n",
              "      <th>Lat</th>\n",
              "      <th>Lon</th>\n",
              "      <th>Cases</th>\n",
              "      <th>Status</th>\n",
              "      <th>Date</th>\n",
              "    </tr>\n",
              "  </thead>\n",
              "  <tbody>\n",
              "    <tr>\n",
              "      <th>0</th>\n",
              "      <td>Indonesia</td>\n",
              "      <td>ID</td>\n",
              "      <td></td>\n",
              "      <td></td>\n",
              "      <td></td>\n",
              "      <td>-0.79</td>\n",
              "      <td>113.92</td>\n",
              "      <td>0</td>\n",
              "      <td>confirmed</td>\n",
              "      <td>2020-03-01</td>\n",
              "    </tr>\n",
              "    <tr>\n",
              "      <th>1</th>\n",
              "      <td>Indonesia</td>\n",
              "      <td>ID</td>\n",
              "      <td></td>\n",
              "      <td></td>\n",
              "      <td></td>\n",
              "      <td>-0.79</td>\n",
              "      <td>113.92</td>\n",
              "      <td>2</td>\n",
              "      <td>confirmed</td>\n",
              "      <td>2020-03-02</td>\n",
              "    </tr>\n",
              "    <tr>\n",
              "      <th>2</th>\n",
              "      <td>Indonesia</td>\n",
              "      <td>ID</td>\n",
              "      <td></td>\n",
              "      <td></td>\n",
              "      <td></td>\n",
              "      <td>-0.79</td>\n",
              "      <td>113.92</td>\n",
              "      <td>2</td>\n",
              "      <td>confirmed</td>\n",
              "      <td>2020-03-03</td>\n",
              "    </tr>\n",
              "    <tr>\n",
              "      <th>3</th>\n",
              "      <td>Indonesia</td>\n",
              "      <td>ID</td>\n",
              "      <td></td>\n",
              "      <td></td>\n",
              "      <td></td>\n",
              "      <td>-0.79</td>\n",
              "      <td>113.92</td>\n",
              "      <td>2</td>\n",
              "      <td>confirmed</td>\n",
              "      <td>2020-03-04</td>\n",
              "    </tr>\n",
              "    <tr>\n",
              "      <th>4</th>\n",
              "      <td>Indonesia</td>\n",
              "      <td>ID</td>\n",
              "      <td></td>\n",
              "      <td></td>\n",
              "      <td></td>\n",
              "      <td>-0.79</td>\n",
              "      <td>113.92</td>\n",
              "      <td>2</td>\n",
              "      <td>confirmed</td>\n",
              "      <td>2020-03-05</td>\n",
              "    </tr>\n",
              "  </tbody>\n",
              "</table>\n",
              "</div>"
            ],
            "text/plain": [
              "     Country CountryCode Province City  ...     Lon  Cases     Status        Date\n",
              "0  Indonesia          ID                ...  113.92      0  confirmed  2020-03-01\n",
              "1  Indonesia          ID                ...  113.92      2  confirmed  2020-03-02\n",
              "2  Indonesia          ID                ...  113.92      2  confirmed  2020-03-03\n",
              "3  Indonesia          ID                ...  113.92      2  confirmed  2020-03-04\n",
              "4  Indonesia          ID                ...  113.92      2  confirmed  2020-03-05\n",
              "\n",
              "[5 rows x 10 columns]"
            ]
          },
          "metadata": {
            "tags": []
          },
          "execution_count": 7
        }
      ]
    },
    {
      "cell_type": "code",
      "metadata": {
        "colab": {
          "base_uri": "https://localhost:8080/"
        },
        "id": "XeEf0woz33I8",
        "outputId": "aa595d6f-b3eb-4fbd-ddba-9efc4bfb17e4"
      },
      "source": [
        "df.isnull().sum()"
      ],
      "execution_count": null,
      "outputs": [
        {
          "output_type": "execute_result",
          "data": {
            "text/plain": [
              "Country        0\n",
              "CountryCode    0\n",
              "Province       0\n",
              "City           0\n",
              "CityCode       0\n",
              "Lat            0\n",
              "Lon            0\n",
              "Cases          0\n",
              "Status         0\n",
              "Date           0\n",
              "dtype: int64"
            ]
          },
          "metadata": {
            "tags": []
          },
          "execution_count": 8
        }
      ]
    },
    {
      "cell_type": "code",
      "metadata": {
        "id": "syMaJbsY5ddT"
      },
      "source": [
        "total_case = df[['Date','Cases']]"
      ],
      "execution_count": null,
      "outputs": []
    },
    {
      "cell_type": "code",
      "metadata": {
        "id": "SdaBnk6W5tUu"
      },
      "source": [
        "total_case = total_case.sort_values(by='Date').reset_index(drop=True)"
      ],
      "execution_count": null,
      "outputs": []
    },
    {
      "cell_type": "code",
      "metadata": {
        "colab": {
          "base_uri": "https://localhost:8080/",
          "height": 399
        },
        "id": "FddG17E15yLp",
        "outputId": "2d2faedc-9aac-4cc1-962d-ff1360bc369f"
      },
      "source": [
        "total_case"
      ],
      "execution_count": null,
      "outputs": [
        {
          "output_type": "execute_result",
          "data": {
            "text/html": [
              "<div>\n",
              "<style scoped>\n",
              "    .dataframe tbody tr th:only-of-type {\n",
              "        vertical-align: middle;\n",
              "    }\n",
              "\n",
              "    .dataframe tbody tr th {\n",
              "        vertical-align: top;\n",
              "    }\n",
              "\n",
              "    .dataframe thead th {\n",
              "        text-align: right;\n",
              "    }\n",
              "</style>\n",
              "<table border=\"1\" class=\"dataframe\">\n",
              "  <thead>\n",
              "    <tr style=\"text-align: right;\">\n",
              "      <th></th>\n",
              "      <th>Date</th>\n",
              "      <th>Cases</th>\n",
              "    </tr>\n",
              "  </thead>\n",
              "  <tbody>\n",
              "    <tr>\n",
              "      <th>0</th>\n",
              "      <td>2020-03-01</td>\n",
              "      <td>0</td>\n",
              "    </tr>\n",
              "    <tr>\n",
              "      <th>1</th>\n",
              "      <td>2020-03-02</td>\n",
              "      <td>2</td>\n",
              "    </tr>\n",
              "    <tr>\n",
              "      <th>2</th>\n",
              "      <td>2020-03-03</td>\n",
              "      <td>2</td>\n",
              "    </tr>\n",
              "    <tr>\n",
              "      <th>3</th>\n",
              "      <td>2020-03-04</td>\n",
              "      <td>2</td>\n",
              "    </tr>\n",
              "    <tr>\n",
              "      <th>4</th>\n",
              "      <td>2020-03-05</td>\n",
              "      <td>2</td>\n",
              "    </tr>\n",
              "    <tr>\n",
              "      <th>...</th>\n",
              "      <td>...</td>\n",
              "      <td>...</td>\n",
              "    </tr>\n",
              "    <tr>\n",
              "      <th>271</th>\n",
              "      <td>2020-11-27</td>\n",
              "      <td>522581</td>\n",
              "    </tr>\n",
              "    <tr>\n",
              "      <th>272</th>\n",
              "      <td>2020-11-28</td>\n",
              "      <td>527999</td>\n",
              "    </tr>\n",
              "    <tr>\n",
              "      <th>273</th>\n",
              "      <td>2020-11-29</td>\n",
              "      <td>534266</td>\n",
              "    </tr>\n",
              "    <tr>\n",
              "      <th>274</th>\n",
              "      <td>2020-11-30</td>\n",
              "      <td>538883</td>\n",
              "    </tr>\n",
              "    <tr>\n",
              "      <th>275</th>\n",
              "      <td>2020-12-01</td>\n",
              "      <td>543975</td>\n",
              "    </tr>\n",
              "  </tbody>\n",
              "</table>\n",
              "<p>276 rows × 2 columns</p>\n",
              "</div>"
            ],
            "text/plain": [
              "           Date   Cases\n",
              "0    2020-03-01       0\n",
              "1    2020-03-02       2\n",
              "2    2020-03-03       2\n",
              "3    2020-03-04       2\n",
              "4    2020-03-05       2\n",
              "..          ...     ...\n",
              "271  2020-11-27  522581\n",
              "272  2020-11-28  527999\n",
              "273  2020-11-29  534266\n",
              "274  2020-11-30  538883\n",
              "275  2020-12-01  543975\n",
              "\n",
              "[276 rows x 2 columns]"
            ]
          },
          "metadata": {
            "tags": []
          },
          "execution_count": 11
        }
      ]
    },
    {
      "cell_type": "code",
      "metadata": {
        "id": "6cQaNjl3DMje"
      },
      "source": [
        "total_case['Date'] = pd.to_datetime(total_case['Date'])"
      ],
      "execution_count": null,
      "outputs": []
    },
    {
      "cell_type": "code",
      "metadata": {
        "id": "Ek_JG7R7R3Zc"
      },
      "source": [
        ""
      ],
      "execution_count": null,
      "outputs": []
    },
    {
      "cell_type": "markdown",
      "metadata": {
        "id": "rb6agWWfAZ_r"
      },
      "source": [
        "# FB Prophet"
      ]
    },
    {
      "cell_type": "code",
      "metadata": {
        "id": "70DUbK_k6DDV"
      },
      "source": [
        "from fbprophet import Prophet"
      ],
      "execution_count": null,
      "outputs": []
    },
    {
      "cell_type": "code",
      "metadata": {
        "id": "JBl793WmCwOm"
      },
      "source": [
        "total_case1 = total_case.copy()"
      ],
      "execution_count": null,
      "outputs": []
    },
    {
      "cell_type": "code",
      "metadata": {
        "id": "xVw_GJzV6ooY"
      },
      "source": [
        "total_case1.columns=['ds','y']"
      ],
      "execution_count": null,
      "outputs": []
    },
    {
      "cell_type": "code",
      "metadata": {
        "colab": {
          "base_uri": "https://localhost:8080/"
        },
        "id": "H8o5UvmX6eN6",
        "outputId": "cffdeddc-f3f1-4eec-d689-4b5572c80fcd"
      },
      "source": [
        "model = Prophet(interval_width=0.95)\n",
        "model.fit(total_case1)"
      ],
      "execution_count": null,
      "outputs": [
        {
          "output_type": "stream",
          "text": [
            "INFO:fbprophet:Disabling yearly seasonality. Run prophet with yearly_seasonality=True to override this.\n",
            "INFO:fbprophet:Disabling daily seasonality. Run prophet with daily_seasonality=True to override this.\n"
          ],
          "name": "stderr"
        },
        {
          "output_type": "execute_result",
          "data": {
            "text/plain": [
              "<fbprophet.forecaster.Prophet at 0x7f87c5e6bb70>"
            ]
          },
          "metadata": {
            "tags": []
          },
          "execution_count": 16
        }
      ]
    },
    {
      "cell_type": "code",
      "metadata": {
        "id": "htI3277l6mVs"
      },
      "source": [
        "future = model.make_future_dataframe(periods=80)"
      ],
      "execution_count": null,
      "outputs": []
    },
    {
      "cell_type": "code",
      "metadata": {
        "id": "d6XQ_WPN7FuC"
      },
      "source": [
        "forecast_conf = model.predict(future)"
      ],
      "execution_count": null,
      "outputs": []
    },
    {
      "cell_type": "code",
      "metadata": {
        "colab": {
          "base_uri": "https://localhost:8080/",
          "height": 298
        },
        "id": "zVqpkftS7JTK",
        "outputId": "9d5abdb3-753a-4b69-8a4e-32a364099899"
      },
      "source": [
        "forecast_conf.tail()"
      ],
      "execution_count": null,
      "outputs": [
        {
          "output_type": "execute_result",
          "data": {
            "text/html": [
              "<div>\n",
              "<style scoped>\n",
              "    .dataframe tbody tr th:only-of-type {\n",
              "        vertical-align: middle;\n",
              "    }\n",
              "\n",
              "    .dataframe tbody tr th {\n",
              "        vertical-align: top;\n",
              "    }\n",
              "\n",
              "    .dataframe thead th {\n",
              "        text-align: right;\n",
              "    }\n",
              "</style>\n",
              "<table border=\"1\" class=\"dataframe\">\n",
              "  <thead>\n",
              "    <tr style=\"text-align: right;\">\n",
              "      <th></th>\n",
              "      <th>ds</th>\n",
              "      <th>trend</th>\n",
              "      <th>yhat_lower</th>\n",
              "      <th>yhat_upper</th>\n",
              "      <th>trend_lower</th>\n",
              "      <th>trend_upper</th>\n",
              "      <th>additive_terms</th>\n",
              "      <th>additive_terms_lower</th>\n",
              "      <th>additive_terms_upper</th>\n",
              "      <th>weekly</th>\n",
              "      <th>weekly_lower</th>\n",
              "      <th>weekly_upper</th>\n",
              "      <th>multiplicative_terms</th>\n",
              "      <th>multiplicative_terms_lower</th>\n",
              "      <th>multiplicative_terms_upper</th>\n",
              "      <th>yhat</th>\n",
              "    </tr>\n",
              "  </thead>\n",
              "  <tbody>\n",
              "    <tr>\n",
              "      <th>351</th>\n",
              "      <td>2021-02-15</td>\n",
              "      <td>835198.29</td>\n",
              "      <td>780161.09</td>\n",
              "      <td>887655.93</td>\n",
              "      <td>779689.54</td>\n",
              "      <td>890783.26</td>\n",
              "      <td>-23.15</td>\n",
              "      <td>-23.15</td>\n",
              "      <td>-23.15</td>\n",
              "      <td>-23.15</td>\n",
              "      <td>-23.15</td>\n",
              "      <td>-23.15</td>\n",
              "      <td>0.00</td>\n",
              "      <td>0.00</td>\n",
              "      <td>0.00</td>\n",
              "      <td>835175.14</td>\n",
              "    </tr>\n",
              "    <tr>\n",
              "      <th>352</th>\n",
              "      <td>2021-02-16</td>\n",
              "      <td>839165.33</td>\n",
              "      <td>781978.82</td>\n",
              "      <td>895124.96</td>\n",
              "      <td>782306.64</td>\n",
              "      <td>895302.21</td>\n",
              "      <td>-96.88</td>\n",
              "      <td>-96.88</td>\n",
              "      <td>-96.88</td>\n",
              "      <td>-96.88</td>\n",
              "      <td>-96.88</td>\n",
              "      <td>-96.88</td>\n",
              "      <td>0.00</td>\n",
              "      <td>0.00</td>\n",
              "      <td>0.00</td>\n",
              "      <td>839068.44</td>\n",
              "    </tr>\n",
              "    <tr>\n",
              "      <th>353</th>\n",
              "      <td>2021-02-17</td>\n",
              "      <td>843132.36</td>\n",
              "      <td>784853.80</td>\n",
              "      <td>899747.38</td>\n",
              "      <td>785361.25</td>\n",
              "      <td>899802.73</td>\n",
              "      <td>-284.18</td>\n",
              "      <td>-284.18</td>\n",
              "      <td>-284.18</td>\n",
              "      <td>-284.18</td>\n",
              "      <td>-284.18</td>\n",
              "      <td>-284.18</td>\n",
              "      <td>0.00</td>\n",
              "      <td>0.00</td>\n",
              "      <td>0.00</td>\n",
              "      <td>842848.19</td>\n",
              "    </tr>\n",
              "    <tr>\n",
              "      <th>354</th>\n",
              "      <td>2021-02-18</td>\n",
              "      <td>847099.40</td>\n",
              "      <td>788622.41</td>\n",
              "      <td>902856.21</td>\n",
              "      <td>788720.25</td>\n",
              "      <td>904329.23</td>\n",
              "      <td>-95.78</td>\n",
              "      <td>-95.78</td>\n",
              "      <td>-95.78</td>\n",
              "      <td>-95.78</td>\n",
              "      <td>-95.78</td>\n",
              "      <td>-95.78</td>\n",
              "      <td>0.00</td>\n",
              "      <td>0.00</td>\n",
              "      <td>0.00</td>\n",
              "      <td>847003.62</td>\n",
              "    </tr>\n",
              "    <tr>\n",
              "      <th>355</th>\n",
              "      <td>2021-02-19</td>\n",
              "      <td>851066.44</td>\n",
              "      <td>792046.98</td>\n",
              "      <td>910017.22</td>\n",
              "      <td>791842.08</td>\n",
              "      <td>908932.38</td>\n",
              "      <td>61.36</td>\n",
              "      <td>61.36</td>\n",
              "      <td>61.36</td>\n",
              "      <td>61.36</td>\n",
              "      <td>61.36</td>\n",
              "      <td>61.36</td>\n",
              "      <td>0.00</td>\n",
              "      <td>0.00</td>\n",
              "      <td>0.00</td>\n",
              "      <td>851127.80</td>\n",
              "    </tr>\n",
              "  </tbody>\n",
              "</table>\n",
              "</div>"
            ],
            "text/plain": [
              "            ds      trend  ...  multiplicative_terms_upper       yhat\n",
              "351 2021-02-15  835198.29  ...                        0.00  835175.14\n",
              "352 2021-02-16  839165.33  ...                        0.00  839068.44\n",
              "353 2021-02-17  843132.36  ...                        0.00  842848.19\n",
              "354 2021-02-18  847099.40  ...                        0.00  847003.62\n",
              "355 2021-02-19  851066.44  ...                        0.00  851127.80\n",
              "\n",
              "[5 rows x 16 columns]"
            ]
          },
          "metadata": {
            "tags": []
          },
          "execution_count": 19
        }
      ]
    },
    {
      "cell_type": "code",
      "metadata": {
        "colab": {
          "base_uri": "https://localhost:8080/",
          "height": 194
        },
        "id": "BuUVEf2_7Me7",
        "outputId": "43b494c5-3e0d-4464-d80b-957a1bb1c0d6"
      },
      "source": [
        "forecast_conf[['ds','yhat','yhat_lower','yhat_upper']].tail(5)"
      ],
      "execution_count": null,
      "outputs": [
        {
          "output_type": "execute_result",
          "data": {
            "text/html": [
              "<div>\n",
              "<style scoped>\n",
              "    .dataframe tbody tr th:only-of-type {\n",
              "        vertical-align: middle;\n",
              "    }\n",
              "\n",
              "    .dataframe tbody tr th {\n",
              "        vertical-align: top;\n",
              "    }\n",
              "\n",
              "    .dataframe thead th {\n",
              "        text-align: right;\n",
              "    }\n",
              "</style>\n",
              "<table border=\"1\" class=\"dataframe\">\n",
              "  <thead>\n",
              "    <tr style=\"text-align: right;\">\n",
              "      <th></th>\n",
              "      <th>ds</th>\n",
              "      <th>yhat</th>\n",
              "      <th>yhat_lower</th>\n",
              "      <th>yhat_upper</th>\n",
              "    </tr>\n",
              "  </thead>\n",
              "  <tbody>\n",
              "    <tr>\n",
              "      <th>391</th>\n",
              "      <td>2021-02-16</td>\n",
              "      <td>112476094.65</td>\n",
              "      <td>111711306.88</td>\n",
              "      <td>113351286.77</td>\n",
              "    </tr>\n",
              "    <tr>\n",
              "      <th>392</th>\n",
              "      <td>2021-02-17</td>\n",
              "      <td>113109871.91</td>\n",
              "      <td>112350448.96</td>\n",
              "      <td>113853468.05</td>\n",
              "    </tr>\n",
              "    <tr>\n",
              "      <th>393</th>\n",
              "      <td>2021-02-18</td>\n",
              "      <td>113762506.21</td>\n",
              "      <td>113006334.50</td>\n",
              "      <td>114493509.84</td>\n",
              "    </tr>\n",
              "    <tr>\n",
              "      <th>394</th>\n",
              "      <td>2021-02-19</td>\n",
              "      <td>114399415.24</td>\n",
              "      <td>113609553.10</td>\n",
              "      <td>115160949.78</td>\n",
              "    </tr>\n",
              "    <tr>\n",
              "      <th>395</th>\n",
              "      <td>2021-02-20</td>\n",
              "      <td>115025022.62</td>\n",
              "      <td>114276198.07</td>\n",
              "      <td>115858743.28</td>\n",
              "    </tr>\n",
              "  </tbody>\n",
              "</table>\n",
              "</div>"
            ],
            "text/plain": [
              "            ds          yhat    yhat_lower    yhat_upper\n",
              "391 2021-02-16  112476094.65  111711306.88  113351286.77\n",
              "392 2021-02-17  113109871.91  112350448.96  113853468.05\n",
              "393 2021-02-18  113762506.21  113006334.50  114493509.84\n",
              "394 2021-02-19  114399415.24  113609553.10  115160949.78\n",
              "395 2021-02-20  115025022.62  114276198.07  115858743.28"
            ]
          },
          "metadata": {
            "tags": []
          },
          "execution_count": 45
        }
      ]
    },
    {
      "cell_type": "code",
      "metadata": {
        "colab": {
          "base_uri": "https://localhost:8080/",
          "height": 441
        },
        "id": "VSWeZiAX7iU3",
        "outputId": "94742027-e459-4924-88bd-3738730b7b0c"
      },
      "source": [
        "forecast_conf_plot = model.plot(forecast_conf)"
      ],
      "execution_count": null,
      "outputs": [
        {
          "output_type": "display_data",
          "data": {
            "image/png": "[encoded data removed]",
            "text/plain": [
              "<Figure size 720x432 with 1 Axes>"
            ]
          },
          "metadata": {
            "tags": []
          }
        }
      ]
    },
    {
      "cell_type": "code",
      "metadata": {
        "colab": {
          "base_uri": "https://localhost:8080/",
          "height": 441
        },
        "id": "bILC7H7M_5pF",
        "outputId": "1f6bde36-4d15-4a70-b636-5cd9fcbcdf00"
      },
      "source": [
        "conf_forecast_plot_component = model.plot_components(forecast_conf)"
      ],
      "execution_count": null,
      "outputs": [
        {
          "output_type": "display_data",
          "data": {
            "image/png": "[encoded data removed]",
            "text/plain": [
              "<Figure size 648x432 with 2 Axes>"
            ]
          },
          "metadata": {
            "tags": []
          }
        }
      ]
    },
    {
      "cell_type": "markdown",
      "metadata": {
        "id": "bjiXOhD3AdQn"
      },
      "source": [
        "# Arima"
      ]
    },
    {
      "cell_type": "code",
      "metadata": {
        "colab": {
          "base_uri": "https://localhost:8080/"
        },
        "id": "a1fgcfgBAL-3",
        "outputId": "50a84570-65fa-4f7a-c0ad-67f002d642c2"
      },
      "source": [
        "!pip install pmdarima"
      ],
      "execution_count": null,
      "outputs": [
        {
          "output_type": "stream",
          "text": [
            "Requirement already satisfied: pmdarima in /usr/local/lib/python3.6/dist-packages (1.8.0)\n",
            "Requirement already satisfied: Cython<0.29.18,>=0.29 in /usr/local/lib/python3.6/dist-packages (from pmdarima) (0.29.17)\n",
            "Requirement already satisfied: numpy>=1.17.3 in /usr/local/lib/python3.6/dist-packages (from pmdarima) (1.19.5)\n",
            "Requirement already satisfied: statsmodels!=0.12.0,>=0.11 in /usr/local/lib/python3.6/dist-packages (from pmdarima) (0.12.2)\n",
            "Requirement already satisfied: setuptools!=50.0.0,>=38.6.0 in /usr/local/lib/python3.6/dist-packages (from pmdarima) (53.0.0)\n",
            "Requirement already satisfied: pandas>=0.19 in /usr/local/lib/python3.6/dist-packages (from pmdarima) (1.1.5)\n",
            "Requirement already satisfied: urllib3 in /usr/local/lib/python3.6/dist-packages (from pmdarima) (1.24.3)\n",
            "Requirement already satisfied: joblib>=0.11 in /usr/local/lib/python3.6/dist-packages (from pmdarima) (1.0.0)\n",
            "Requirement already satisfied: scipy>=1.3.2 in /usr/local/lib/python3.6/dist-packages (from pmdarima) (1.4.1)\n",
            "Requirement already satisfied: scikit-learn>=0.22 in /usr/local/lib/python3.6/dist-packages (from pmdarima) (0.22.2.post1)\n",
            "Requirement already satisfied: patsy>=0.5 in /usr/local/lib/python3.6/dist-packages (from statsmodels!=0.12.0,>=0.11->pmdarima) (0.5.1)\n",
            "Requirement already satisfied: pytz>=2017.2 in /usr/local/lib/python3.6/dist-packages (from pandas>=0.19->pmdarima) (2018.9)\n",
            "Requirement already satisfied: python-dateutil>=2.7.3 in /usr/local/lib/python3.6/dist-packages (from pandas>=0.19->pmdarima) (2.8.1)\n",
            "Requirement already satisfied: six in /usr/local/lib/python3.6/dist-packages (from patsy>=0.5->statsmodels!=0.12.0,>=0.11->pmdarima) (1.15.0)\n"
          ],
          "name": "stdout"
        }
      ]
    },
    {
      "cell_type": "code",
      "metadata": {
        "id": "AXxjjsRpAiEf"
      },
      "source": [
        "from pmdarima import auto_arima"
      ],
      "execution_count": null,
      "outputs": []
    },
    {
      "cell_type": "code",
      "metadata": {
        "id": "9iQPdPb2BfkJ"
      },
      "source": [
        "total_case2 = total_case.copy()"
      ],
      "execution_count": null,
      "outputs": []
    },
    {
      "cell_type": "code",
      "metadata": {
        "id": "cMcAHtqxDxNn"
      },
      "source": [
        "total_case2.set_index('last_update',inplace=True)"
      ],
      "execution_count": null,
      "outputs": []
    },
    {
      "cell_type": "code",
      "metadata": {
        "colab": {
          "base_uri": "https://localhost:8080/"
        },
        "id": "Q8YkRYD9D3XI",
        "outputId": "24085f04-0bbd-45c6-f534-36cf6e72de05"
      },
      "source": [
        "total_case2.info()"
      ],
      "execution_count": null,
      "outputs": [
        {
          "output_type": "stream",
          "text": [
            "<class 'pandas.core.frame.DataFrame'>\n",
            "DatetimeIndex: 391 entries, 2020-01-22 to 2021-02-15\n",
            "Data columns (total 1 columns):\n",
            " #   Column       Non-Null Count  Dtype\n",
            "---  ------       --------------  -----\n",
            " 0   total_cases  391 non-null    int64\n",
            "dtypes: int64(1)\n",
            "memory usage: 6.1 KB\n"
          ],
          "name": "stdout"
        }
      ]
    },
    {
      "cell_type": "code",
      "metadata": {
        "colab": {
          "base_uri": "https://localhost:8080/"
        },
        "id": "R_0ZCR5UFUos",
        "outputId": "d2963a1d-1b35-43e9-dbe5-e2f6d4086454"
      },
      "source": [
        "len(total_case2)"
      ],
      "execution_count": null,
      "outputs": [
        {
          "output_type": "execute_result",
          "data": {
            "text/plain": [
              "391"
            ]
          },
          "metadata": {
            "tags": []
          },
          "execution_count": 58
        }
      ]
    },
    {
      "cell_type": "code",
      "metadata": {
        "id": "T8A8ggHXFRYe"
      },
      "source": [
        "train = total_case2[:350]\n",
        "test = total_case2[350:]"
      ],
      "execution_count": null,
      "outputs": []
    },
    {
      "cell_type": "code",
      "metadata": {
        "colab": {
          "base_uri": "https://localhost:8080/"
        },
        "id": "uhNm4FjIAqae",
        "outputId": "8c1d3aeb-e4f9-40f0-fbf2-8833b62ef513"
      },
      "source": [
        "model = auto_arima(train,trace=True)"
      ],
      "execution_count": null,
      "outputs": [
        {
          "output_type": "stream",
          "text": [
            "Performing stepwise search to minimize aic\n",
            " ARIMA(2,2,2)(0,0,0)[0]             : AIC=8770.444, Time=0.24 sec\n",
            " ARIMA(0,2,0)(0,0,0)[0]             : AIC=8949.284, Time=0.02 sec\n",
            " ARIMA(1,2,0)(0,0,0)[0]             : AIC=8854.827, Time=0.02 sec\n",
            " ARIMA(0,2,1)(0,0,0)[0]             : AIC=8769.762, Time=0.05 sec\n",
            " ARIMA(1,2,1)(0,0,0)[0]             : AIC=8771.583, Time=0.07 sec\n",
            " ARIMA(0,2,2)(0,0,0)[0]             : AIC=8767.886, Time=0.09 sec\n",
            " ARIMA(1,2,2)(0,0,0)[0]             : AIC=8768.737, Time=0.15 sec\n",
            " ARIMA(0,2,3)(0,0,0)[0]             : AIC=8768.956, Time=0.18 sec\n",
            " ARIMA(1,2,3)(0,0,0)[0]             : AIC=8760.286, Time=0.26 sec\n",
            " ARIMA(2,2,3)(0,0,0)[0]             : AIC=8763.824, Time=0.51 sec\n",
            " ARIMA(1,2,4)(0,0,0)[0]             : AIC=8756.348, Time=0.31 sec\n",
            " ARIMA(0,2,4)(0,0,0)[0]             : AIC=8758.681, Time=0.18 sec\n",
            " ARIMA(2,2,4)(0,0,0)[0]             : AIC=8726.091, Time=1.30 sec\n",
            " ARIMA(3,2,4)(0,0,0)[0]             : AIC=inf, Time=1.51 sec\n",
            " ARIMA(2,2,5)(0,0,0)[0]             : AIC=inf, Time=1.51 sec\n",
            " ARIMA(1,2,5)(0,0,0)[0]             : AIC=8755.633, Time=0.43 sec\n",
            " ARIMA(3,2,3)(0,0,0)[0]             : AIC=8740.426, Time=1.07 sec\n",
            " ARIMA(3,2,5)(0,0,0)[0]             : AIC=8727.962, Time=1.56 sec\n",
            " ARIMA(2,2,4)(0,0,0)[0] intercept   : AIC=8767.535, Time=1.64 sec\n",
            "\n",
            "Best model:  ARIMA(2,2,4)(0,0,0)[0]          \n",
            "Total fit time: 11.130 seconds\n"
          ],
          "name": "stdout"
        }
      ]
    },
    {
      "cell_type": "code",
      "metadata": {
        "colab": {
          "base_uri": "https://localhost:8080/"
        },
        "id": "KccwpbZ2Bb4D",
        "outputId": "28a3fe92-ad07-4c0f-89bc-604515b46ed4"
      },
      "source": [
        "model.fit(train)"
      ],
      "execution_count": null,
      "outputs": [
        {
          "output_type": "execute_result",
          "data": {
            "text/plain": [
              "ARIMA(maxiter=50, method='lbfgs', order=(2, 2, 4), out_of_sample_size=0,\n",
              "      scoring='mse', scoring_args={}, seasonal_order=(0, 0, 0, 0),\n",
              "      start_params=None, suppress_warnings=True, trend=None,\n",
              "      with_intercept=False)"
            ]
          },
          "metadata": {
            "tags": []
          },
          "execution_count": 61
        }
      ]
    },
    {
      "cell_type": "code",
      "metadata": {
        "id": "oE-1-FIKESlz"
      },
      "source": [
        "forecast = model.predict(n_periods=len(test))"
      ],
      "execution_count": null,
      "outputs": []
    },
    {
      "cell_type": "code",
      "metadata": {
        "colab": {
          "base_uri": "https://localhost:8080/"
        },
        "id": "6hslON94Ephr",
        "outputId": "38d397ad-7bad-411e-82d7-1d1fe3699684"
      },
      "source": [
        "forecast"
      ],
      "execution_count": null,
      "outputs": [
        {
          "output_type": "execute_result",
          "data": {
            "text/plain": [
              "array([8.68701543e+07, 8.75489318e+07, 8.82081883e+07, 8.88144084e+07,\n",
              "       8.93742838e+07, 8.99295054e+07, 9.05251236e+07, 9.11754903e+07,\n",
              "       9.18535280e+07, 9.25113496e+07, 9.31165265e+07, 9.36765375e+07,\n",
              "       9.42329664e+07, 9.48299474e+07, 9.54808017e+07, 9.61580866e+07,\n",
              "       9.68144887e+07, 9.74186546e+07, 9.79788256e+07, 9.85364602e+07,\n",
              "       9.91347774e+07, 9.97860882e+07, 1.00462608e+08, 1.01117607e+08,\n",
              "       1.01720793e+08, 1.02281148e+08, 1.02839986e+08, 1.03439613e+08,\n",
              "       1.04091350e+08, 1.04767093e+08, 1.05420704e+08, 1.06022943e+08,\n",
              "       1.06583505e+08, 1.07143543e+08, 1.07744453e+08, 1.08396586e+08,\n",
              "       1.09071542e+08, 1.09723782e+08, 1.10325105e+08, 1.10885895e+08,\n",
              "       1.11447130e+08])"
            ]
          },
          "metadata": {
            "tags": []
          },
          "execution_count": 63
        }
      ]
    },
    {
      "cell_type": "code",
      "metadata": {
        "id": "d7ViGq6XF4M_"
      },
      "source": [
        "from matplotlib import pyplot\n"
      ],
      "execution_count": null,
      "outputs": []
    },
    {
      "cell_type": "code",
      "metadata": {
        "colab": {
          "base_uri": "https://localhost:8080/",
          "height": 458
        },
        "id": "r626bsUPErE0",
        "outputId": "96d57589-0897-4900-f815-48082e50f95f"
      },
      "source": [
        "# plot untuk mengilustrasikan perbedaan actual dan predicted price\n",
        "pyplot.figure(figsize=(12,7));\n",
        "pyplot.plot(test.index, test, label='Actual');\n",
        "pyplot.plot(test.index, forecast, label='Predicted');\n",
        "pyplot.title('Forecasting - ARIMA')\n",
        "pyplot.xlabel('Tanggal')\n",
        "pyplot.ylabel('Value')\n",
        "pyplot.legend();"
      ],
      "execution_count": null,
      "outputs": [
        {
          "output_type": "display_data",
          "data": {
            "image/png": "[encoded data removed]",
            "text/plain": [
              "<Figure size 864x504 with 1 Axes>"
            ]
          },
          "metadata": {
            "tags": [],
            "needs_background": "light"
          }
        }
      ]
    },
    {
      "cell_type": "code",
      "metadata": {
        "id": "_6hQVesfF3SP"
      },
      "source": [
        ""
      ],
      "execution_count": null,
      "outputs": []
    },
    {
      "cell_type": "markdown",
      "metadata": {
        "id": "lT4wiO3_HVjW"
      },
      "source": [
        "# LSTM"
      ]
    },
    {
      "cell_type": "code",
      "metadata": {
        "id": "CaPH8QzJHYl7"
      },
      "source": [
        "import numpy\n",
        "import matplotlib.pyplot as plt\n",
        "import pandas\n",
        "import math\n",
        "from keras.models import Sequential\n",
        "from keras.layers import Dense\n",
        "from keras.layers import LSTM\n",
        "from sklearn.preprocessing import MinMaxScaler\n",
        "from sklearn.metrics import mean_squared_error"
      ],
      "execution_count": null,
      "outputs": []
    },
    {
      "cell_type": "code",
      "metadata": {
        "id": "MtNYzro6Hj5S"
      },
      "source": [
        "numpy.random.seed(48)"
      ],
      "execution_count": null,
      "outputs": []
    },
    {
      "cell_type": "code",
      "metadata": {
        "id": "FnybEHSGHofv"
      },
      "source": [
        "X = total_case[['total_cases']]\n",
        "X = X.values\n",
        "X = X.astype('float32')"
      ],
      "execution_count": null,
      "outputs": []
    },
    {
      "cell_type": "code",
      "metadata": {
        "id": "c5Oy07F0ISLa"
      },
      "source": [
        "X"
      ],
      "execution_count": null,
      "outputs": []
    },
    {
      "cell_type": "code",
      "metadata": {
        "id": "GCYs3QccIXjE"
      },
      "source": [
        "scaler = MinMaxScaler(feature_range=(0, 1))\n",
        "X = scaler.fit_transform(X)"
      ],
      "execution_count": null,
      "outputs": []
    },
    {
      "cell_type": "code",
      "metadata": {
        "colab": {
          "base_uri": "https://localhost:8080/"
        },
        "id": "7647wMeQIqMs",
        "outputId": "5f15cd98-782a-4893-cb52-1d1a4b1716e0"
      },
      "source": [
        "train_size = int(len(X) * 0.9)\n",
        "test_size = len(X) - train_size\n",
        "train, test = X[0:train_size,:], X[train_size:len(X),:]\n",
        "print(len(train), len(test))"
      ],
      "execution_count": null,
      "outputs": [
        {
          "output_type": "stream",
          "text": [
            "351 40\n"
          ],
          "name": "stdout"
        }
      ]
    },
    {
      "cell_type": "code",
      "metadata": {
        "id": "Ad1CR-aqI3RR"
      },
      "source": [
        "def create_dataset(dataset, look_back=1):\n",
        "\tdataX, dataY = [], []\n",
        "\tfor i in range(len(dataset)-look_back-1):\n",
        "\t\ta = dataset[i:(i+look_back), 0]\n",
        "\t\tdataX.append(a)\n",
        "\t\tdataY.append(dataset[i + look_back, 0])\n",
        "\treturn numpy.array(dataX), numpy.array(dataY)"
      ],
      "execution_count": null,
      "outputs": []
    },
    {
      "cell_type": "code",
      "metadata": {
        "id": "IaEOQ5K2I-j8"
      },
      "source": [
        "look_back = 1\n",
        "trainX, trainY = create_dataset(train, look_back)\n",
        "testX, testY = create_dataset(test, look_back)"
      ],
      "execution_count": null,
      "outputs": []
    },
    {
      "cell_type": "code",
      "metadata": {
        "id": "QDmj9kODJD7n"
      },
      "source": [
        "trainX = numpy.reshape(trainX, (trainX.shape[0], 1, trainX.shape[1]))\n",
        "testX = numpy.reshape(testX, (testX.shape[0], 1, testX.shape[1]))"
      ],
      "execution_count": null,
      "outputs": []
    },
    {
      "cell_type": "code",
      "metadata": {
        "id": "B8Q8thSMJLkc"
      },
      "source": [
        "model = Sequential()\n",
        "model.add(LSTM(4, input_shape=(1, look_back)))\n",
        "model.add(Dense(1))\n",
        "model.compile(loss='mean_squared_error', optimizer='adam')\n",
        "model.fit(trainX, trainY, epochs=100, batch_size=1, verbose=2)"
      ],
      "execution_count": null,
      "outputs": []
    },
    {
      "cell_type": "code",
      "metadata": {
        "colab": {
          "base_uri": "https://localhost:8080/"
        },
        "id": "0mkoSlGaJNW5",
        "outputId": "3cc4f7fd-63a0-402d-910e-3d475c2204a4"
      },
      "source": [
        "trainPredict = model.predict(trainX)\n",
        "testPredict = model.predict(testX)\n",
        "# invert predictions\n",
        "trainPredict = scaler.inverse_transform(trainPredict)\n",
        "trainY = scaler.inverse_transform([trainY])\n",
        "testPredict = scaler.inverse_transform(testPredict)\n",
        "testY = scaler.inverse_transform([testY])\n",
        "# calculate root mean squared error\n",
        "trainScore = math.sqrt(mean_squared_error(trainY[0], trainPredict[:,0]))\n",
        "print('Train Score: %.2f RMSE' % (trainScore))\n",
        "testScore = math.sqrt(mean_squared_error(testY[0], testPredict[:,0]))\n",
        "print('Test Score: %.2f RMSE' % (testScore))"
      ],
      "execution_count": null,
      "outputs": [
        {
          "output_type": "stream",
          "text": [
            "Train Score: 357966.10 RMSE\n",
            "Test Score: 2946132.95 RMSE\n"
          ],
          "name": "stdout"
        }
      ]
    },
    {
      "cell_type": "code",
      "metadata": {
        "colab": {
          "base_uri": "https://localhost:8080/",
          "height": 602
        },
        "id": "L4JRM0GUJcXM",
        "outputId": "0f1d2968-d80a-45b5-c0f2-0cf382e2790b"
      },
      "source": [
        "plt.figure(figsize=(10,10))\n",
        "# shift train predictions for plotting\n",
        "trainPredictPlot = numpy.empty_like(X)\n",
        "trainPredictPlot[:, :] = numpy.nan\n",
        "trainPredictPlot[look_back:len(trainPredict)+look_back, :] = trainPredict\n",
        "# shift test predictions for plotting\n",
        "testPredictPlot = numpy.empty_like(X)\n",
        "testPredictPlot[:, :] = numpy.nan\n",
        "testPredictPlot[len(trainPredict)+(look_back*2)+1:len(X)-1, :] = testPredict\n",
        "# plot baseline and predictions\n",
        "plt.plot(scaler.inverse_transform(X))\n",
        "plt.plot(trainPredictPlot)\n",
        "plt.plot(testPredictPlot)\n",
        "plt.show()"
      ],
      "execution_count": null,
      "outputs": [
        {
          "output_type": "display_data",
          "data": {
            "image/png": "[encoded data removed]",
            "text/plain": [
              "<Figure size 720x720 with 1 Axes>"
            ]
          },
          "metadata": {
            "tags": [],
            "needs_background": "light"
          }
        }
      ]
    },
    {
      "cell_type": "code",
      "metadata": {
        "id": "lOaKi-j_Jl9o"
      },
      "source": [
        ""
      ],
      "execution_count": null,
      "outputs": []
    }
  ]
}